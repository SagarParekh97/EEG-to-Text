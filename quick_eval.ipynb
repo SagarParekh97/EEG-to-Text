{
 "cells": [
  {
   "cell_type": "code",
   "execution_count": 1,
   "metadata": {},
   "outputs": [],
   "source": [
    "import pickle\n",
    "import numpy as np\n",
    "from tqdm import tqdm\n",
    "import os\n",
    "\n",
    "from transformers import BartTokenizer, BartForConditionalGeneration\n",
    "from nltk.translate.bleu_score import corpus_bleu, sentence_bleu\n",
    "from torch.utils.data import DataLoader, Dataset, RandomSampler, SequentialSampler\n",
    "import torch\n",
    "\n",
    "from rouge import Rouge\n",
    "from nltk.translate.bleu_score import sentence_bleu, corpus_bleu\n",
    "\n",
    "from get_config import get_config\n",
    "from data_utils import ZuCo_dataset\n",
    "from models import BrainTranslator"
   ]
  },
  {
   "cell_type": "code",
   "execution_count": 2,
   "metadata": {},
   "outputs": [],
   "source": [
    "def eval(dataloader, device, tokenizer, criterion, model, output_results_path='./save_data/eval_results/results.txt'):\n",
    "    os.makedirs(os.path.dirname(output_results_path), exist_ok=True)\n",
    "\n",
    "    model.eval()\n",
    "    running_loss = 0.0\n",
    "\n",
    "    target_token_list = []\n",
    "    target_string_list = []\n",
    "    pred_token_list = []\n",
    "    pred_string_list = []\n",
    "    \n",
    "    with open(output_results_path, 'w') as f:\n",
    "        for input_embeddings, seq_len, input_masks, input_masks_invert, target_ids, target_masks in tqdm(dataloader['test']):\n",
    "            # get eeg-word embedding tensor and target word embedding tensor\n",
    "            input_embeddings_batch = input_embeddings.to(device).float()\n",
    "            input_masks_batch = input_masks.to(device)\n",
    "            input_masks_invert = input_masks_invert.to(device)\n",
    "            target_ids_batch = target_ids.to(device)\n",
    "\n",
    "            # decode target word embedding tensor to get target string\n",
    "            target_tokens = tokenizer.convert_ids_to_tokens(target_ids_batch[0].tolist(), skip_special_tokens=True)\n",
    "            target_string = tokenizer.decode(target_ids_batch[0].tolist(), skip_special_tokens=True)\n",
    "            f.write('Target string: {}\\n'.format(target_string))\n",
    "\n",
    "            target_token_list.append(target_tokens)\n",
    "            target_string_list.append(target_string)\n",
    "\n",
    "            target_ids_batch[target_ids_batch == tokenizer.pad_token_id] = -100\n",
    "\n",
    "            # use brain decoder model to get reconstructed string from eeg-word embedding\n",
    "            model_output = model(input_embeddings_batch, input_masks_batch, input_masks_invert, target_ids_batch)\n",
    "            loss = model_output.loss\n",
    "\n",
    "            logits = model_output.logits\n",
    "            probs = logits[0].softmax(dim=1)\n",
    "            values, predictions = probs.topk(1)\n",
    "            predictions = predictions.squeeze()\n",
    "            predicted_string = tokenizer.decode(predictions).split('</s></s>')[0].replace('<s>', '')\n",
    "            # save in a txt file\n",
    "            f.write('Predicted string: {}\\n'.format(predicted_string))\n",
    "            f.write('--------------------------------------------------------------\\n\\n\\n')\n",
    "\n",
    "            predictions = predictions.tolist()\n",
    "            truncated_predictions = []\n",
    "            for pred in predictions:\n",
    "                if pred != tokenizer.eos_token_id:\n",
    "                    truncated_predictions.append(pred)\n",
    "                else:\n",
    "                    break\n",
    "            \n",
    "            pred_tokens = tokenizer.convert_ids_to_tokens(truncated_predictions, skip_special_tokens=True)\n",
    "            pred_token_list.append(pred_tokens)\n",
    "            pred_string_list.append(predicted_string)\n",
    "\n",
    "            running_loss += loss.item() * input_embeddings_batch.size()[0]\n",
    "        \n",
    "        running_loss = running_loss / len(dataloader['test'].dataset)\n",
    "        print('Test Loss: {}'.format(running_loss))\n",
    "\n",
    "\n",
    "        return pred_string_list, target_string_list, pred_token_list, target_token_list\n"
   ]
  },
  {
   "cell_type": "code",
   "execution_count": 3,
   "metadata": {},
   "outputs": [
    {
     "name": "stdout",
     "output_type": "stream",
     "text": [
      "\n",
      "[*] EEG type:  GD\n",
      "[*] Bands:  ['_t1', '_t2', '_a1', '_a2', '_b1', '_b2', '_g1', '_g2']\n",
      "\n",
      "[*] Task name: task1_task2_task3\n",
      "\n",
      "[*] Using device:  cuda\n",
      "\n",
      "[*] Loading Task1 dataset ...\n",
      "\n",
      "[*] Loading Task2 dataset ...\n",
      "\n",
      "[*] Loading Task3 dataset ...\n",
      "\n",
      "[*] Subjects:  ['ZAB', 'ZDM', 'ZDN', 'ZGW', 'ZJM', 'ZJN', 'ZJS', 'ZKB', 'ZKH', 'ZKW', 'ZMG', 'ZPH']\n",
      "\n",
      "[*] Train: 320, Dev: 360, Test: 40\n",
      "\n",
      "[*] Loading testset...\n",
      "[*] testset size: 462\n",
      "\n",
      "[*] Subjects:  ['ZAB', 'ZDM', 'ZDN', 'ZGW', 'ZJM', 'ZJN', 'ZJS', 'ZKB', 'ZKH', 'ZKW', 'ZMG', 'ZPH']\n",
      "\n",
      "[*] Train: 240, Dev: 270, Test: 30\n",
      "\n",
      "[*] Loading testset...\n",
      "!!!!! seq_len is 0. Discarding instace...\n",
      "!!!!! seq_len is 0. Discarding instace...\n",
      "[*] testset size: 817\n",
      "\n",
      "[*] Subjects:  ['ZAB', 'ZDM', 'ZDN', 'ZGW', 'ZJM', 'ZJN', 'ZJS', 'ZKB', 'ZKH', 'ZKW', 'ZMG', 'ZPH']\n",
      "\n",
      "[*] Train: 325, Dev: 365, Test: 42\n",
      "\n",
      "[*] Loading testset...\n",
      "!!!!! seq_len is 0. Discarding instace...\n",
      "[*] testset size: 1217\n",
      "\n",
      "[*] Dataset loaded. Input tensor size torch.Size([57, 840]), target tensor size torch.Size([57])\n",
      "--------------------------------------------------------------\n",
      "testset size:  1217\n",
      "--------------------------------------------------------------\n",
      "\n",
      "\n",
      "\n"
     ]
    }
   ],
   "source": [
    "batch_size = 1\n",
    "\n",
    "''' load training config'''\n",
    "training_config = pickle.load(open('./save_data/config/config_all_tasks_skip_step1.pickle', 'rb'))\n",
    "\n",
    "output_results_path = os.path.join('./save_data/eval_results', f\"results_{os.path.basename(training_config['save_path'])}\")\n",
    "\n",
    "eeg_type = training_config['eeg_type']\n",
    "bands = training_config['bands']\n",
    "print('\\n[*] EEG type: ', eeg_type)\n",
    "print('[*] Bands: ', bands)\n",
    "\n",
    "task_name = training_config['task_name']\n",
    "print(f'\\n[*] Task name: {task_name}')\n",
    "\n",
    "seed_val = 213\n",
    "np.random.seed(seed_val)\n",
    "torch.manual_seed(seed_val)\n",
    "torch.cuda.manual_seed_all(seed_val)\n",
    "\n",
    "''' set device '''\n",
    "device = torch.device('cuda' if torch.cuda.is_available() else 'cpu')\n",
    "print('\\n[*] Using device: ', device)\n",
    "\n",
    "''' load dataset '''\n",
    "input_dataset_list = []\n",
    "if 'task1' in task_name:\n",
    "    print('\\n[*] Loading Task1 dataset ...')\n",
    "    dataset_path_task1 = './dataset/processed/Task1_SR_processed.pickle'\n",
    "    with open(dataset_path_task1, 'rb') as f:\n",
    "        input_dataset_list.append(pickle.load(f))\n",
    "if 'task2' in task_name:\n",
    "    print('\\n[*] Loading Task2 dataset ...')\n",
    "    dataset_path_task2 = './dataset/processed/Task2_NR_processed.pickle'\n",
    "    with open(dataset_path_task2, 'rb') as f:\n",
    "        input_dataset_list.append(pickle.load(f))\n",
    "if 'task3' in task_name:\n",
    "    print('\\n[*] Loading Task3 dataset ...')\n",
    "    dataset_path_task3 = './dataset/processed/Task3_TSR_processed.pickle'\n",
    "    with open(dataset_path_task3, 'rb') as f:\n",
    "        input_dataset_list.append(pickle.load(f))\n",
    "\n",
    "''' load tokenizer '''\n",
    "tokenizer = BartTokenizer.from_pretrained('facebook/bart-large')\n",
    "\n",
    "test_dataset = ZuCo_dataset(input_dataset_list, tokenizer, 'test', eeg_type=eeg_type, bands=bands)\n",
    "print('--------------------------------------------------------------')\n",
    "print('testset size: ', len(test_dataset))\n",
    "print('--------------------------------------------------------------')\n",
    "print('\\n\\n')\n",
    "\n",
    "test_dataloader = DataLoader(test_dataset, batch_size=batch_size, shuffle=False, num_workers=4)\n",
    "dataloaders = {'test': test_dataloader}\n",
    "\n",
    "''' load model '''\n",
    "model_path = './save_data/checkpoints/all_tasks_skip_step1/last/final.pt'\n",
    "pretrained = BartForConditionalGeneration.from_pretrained('facebook/bart-large')\n",
    "model = BrainTranslator(pretrained, input_dim=105*len(bands), embedding_dim=1024, encoder_heads=8, encoder_dim_feedforward=2048)\n",
    "model.load_state_dict(torch.load(model_path))\n",
    "model.to(device)\n",
    "\n",
    "criterion = torch.nn.CrossEntropyLoss()"
   ]
  },
  {
   "cell_type": "code",
   "execution_count": 4,
   "metadata": {},
   "outputs": [
    {
     "name": "stderr",
     "output_type": "stream",
     "text": [
      "100%|██████████| 1217/1217 [00:50<00:00, 24.07it/s]"
     ]
    },
    {
     "name": "stdout",
     "output_type": "stream",
     "text": [
      "Test Loss: 3.5877659927162853\n"
     ]
    },
    {
     "name": "stderr",
     "output_type": "stream",
     "text": [
      "\n"
     ]
    }
   ],
   "source": [
    "''' eval '''\n",
    "pred_strings, target_strings, pred_tokens, target_tokens = eval(dataloaders, device, tokenizer, criterion, model, output_results_path)"
   ]
  },
  {
   "cell_type": "code",
   "execution_count": 5,
   "metadata": {},
   "outputs": [
    {
     "name": "stdout",
     "output_type": "stream",
     "text": [
      "rouge-1 score P:  0.29657701989497787\n",
      "rouge-1 score R:  0.2354086785877844\n",
      "rouge-1 score F:  0.2613310137695012\n"
     ]
    }
   ],
   "source": [
    "\n",
    "''' corpus rouge score '''\n",
    "rouge = Rouge()\n",
    "rouge_score = rouge.get_scores(pred_strings, target_strings, avg=True)\n",
    "rouge1_score = rouge_score['rouge-1']\n",
    "\n",
    "print('rouge-1 score P: ', rouge1_score['p'])\n",
    "print('rouge-1 score R: ', rouge1_score['r'])\n",
    "print('rouge-1 score F: ', rouge1_score['f'])"
   ]
  },
  {
   "cell_type": "code",
   "execution_count": 6,
   "metadata": {},
   "outputs": [
    {
     "name": "stdout",
     "output_type": "stream",
     "text": [
      "BLEU1:  0.3676244299012019\n",
      "BLEU2:  0.10316160144585267\n",
      "BLEU3:  0.02515225987585119\n",
      "BLEU4:  0.005782848678129554\n"
     ]
    }
   ],
   "source": [
    "''' corpus bleu score '''\n",
    "list_of_references = [[tt] for tt in target_tokens]\n",
    "\n",
    "bleu1_score = corpus_bleu(list_of_references, pred_tokens, weights=(1, 0, 0, 0))\n",
    "bleu2_score = corpus_bleu(list_of_references, pred_tokens, weights=(0, 1, 0, 0))\n",
    "bleu3_score = corpus_bleu(list_of_references, pred_tokens, weights=(0, 0, 1, 0))\n",
    "bleu4_score = corpus_bleu(list_of_references, pred_tokens, weights=(0, 0, 0, 1))\n",
    "\n",
    "print('BLEU1: ', bleu1_score)\n",
    "print('BLEU2: ', bleu2_score)\n",
    "print('BLEU3: ', bleu3_score)\n",
    "print('BLEU4: ', bleu4_score)"
   ]
  },
  {
   "cell_type": "code",
   "execution_count": null,
   "metadata": {},
   "outputs": [],
   "source": []
  }
 ],
 "metadata": {
  "kernelspec": {
   "display_name": "base",
   "language": "python",
   "name": "python3"
  },
  "language_info": {
   "codemirror_mode": {
    "name": "ipython",
    "version": 3
   },
   "file_extension": ".py",
   "mimetype": "text/x-python",
   "name": "python",
   "nbconvert_exporter": "python",
   "pygments_lexer": "ipython3",
   "version": "3.8.5"
  }
 },
 "nbformat": 4,
 "nbformat_minor": 2
}
